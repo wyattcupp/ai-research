{
 "cells": [
  {
   "cell_type": "code",
   "execution_count": 1,
   "id": "76479fc4-cbe4-49f7-b2a7-25ee272fd7d1",
   "metadata": {},
   "outputs": [],
   "source": [
    "# Import necessary libraries\n",
    "from langchain.document_loaders import TextLoader\n",
    "from langchain.text_splitter import CharacterTextSplitter\n",
    "from langchain_huggingface import HuggingFaceEmbeddings\n",
    "from langchain.vectorstores import FAISS\n",
    "from langchain_ollama import ChatOllama\n",
    "\n",
    "from langchain_core.messages import HumanMessage, SystemMessage, AIMessage, ToolMessage\n",
    "from langgraph.graph.message import add_messages\n",
    "from langchain_core.tools import tool"
   ]
  },
  {
   "cell_type": "code",
   "execution_count": 149,
   "id": "45da92e7",
   "metadata": {},
   "outputs": [
    {
     "name": "stdout",
     "output_type": "stream",
     "text": [
      "==================================\u001b[1m Ai Message \u001b[0m==================================\n",
      "\n",
      "<think>\n",
      "Alright, the user just asked if I can do multiplication. Let me think about how to respond.\n",
      "\n",
      "I know I can definitely handle multiplication, so I should confirm that yes, I can assist with it. Maybe I'll ask them what numbers they want to multiply to keep the conversation going.\n",
      "\n",
      "Hmm, maybe using emojis would make it friendlier. A robot emoji fits since I'm an AI. I should also phrase it in a way that's open-ended, encouraging them to provide the specific numbers.\n",
      "\n",
      "I don't want to sound too technical; just straightforward and helpful. That should make them feel comfortable asking for help with their math problem.\n",
      "</think>\n",
      "\n",
      "Yes, I can help with multiplication! What numbers would you like me to multiply? 😊\n"
     ]
    }
   ],
   "source": [
    "llama32 = ChatOllama(model='llama3.2')\n",
    "deepseek_r1_14b = ChatOllama(model='deepseek-r1:14b')\n",
    "\n",
    "llama32.invoke([AIMessage(content=\"Hello, I'm a chatbot. How can I help you today?\"),\n",
    "                HumanMessage(content=\"Can you do multiplication?\")]).pretty_print()"
   ]
  },
  {
   "cell_type": "code",
   "execution_count": 127,
   "id": "f2e22841",
   "metadata": {},
   "outputs": [],
   "source": [
    "from typing import TypedDict, Annotated\n",
    "\n",
    "class MessageState(TypedDict):\n",
    "    messages: Annotated[list, add_messages]"
   ]
  },
  {
   "cell_type": "code",
   "execution_count": 128,
   "id": "7c707134",
   "metadata": {},
   "outputs": [
    {
     "name": "stdout",
     "output_type": "stream",
     "text": [
      "name='multiply' description='Multiply two numbers.' args_schema=<class 'langchain_core.utils.pydantic.multiply'> func=<function multiply at 0x36d85bce0>\n"
     ]
    }
   ],
   "source": [
    "\n",
    "# multiplication tool\n",
    "@tool\n",
    "def multiply(x: int, y: int) -> int:\n",
    "    \"\"\"Multiply two numbers.\"\"\"\n",
    "    return x * y\n",
    "\n",
    "print(multiply)"
   ]
  },
  {
   "cell_type": "code",
   "execution_count": null,
   "id": "db4c7aad",
   "metadata": {},
   "outputs": [
    {
     "data": {
      "image/png": "[encoded data removed]",
      "text/plain": [
       "<IPython.core.display.Image object>"
      ]
     },
     "metadata": {},
     "output_type": "display_data"
    }
   ],
   "source": [
    "from IPython.display import Image, display\n",
    "from langgraph.graph import StateGraph, START, END\n",
    "from langgraph.prebuilt import ToolNode, tools_condition\n",
    "from typing import TypedDict, Annotated\n",
    "\n",
    "class MessageState(TypedDict):\n",
    "    messages: Annotated[list, add_messages]\n",
    "    \n",
    "@tool\n",
    "def multiply_two_numbers(x: int, y: int) -> int:\n",
    "    \"\"\"\n",
    "    Multiply two numbers.\n",
    "    Args:\n",
    "        x: The first number to multiply\n",
    "        y: The second number to multiply\n",
    "    Returns:\n",
    "        The product of x and y\n",
    "    \"\"\"\n",
    "    return x * y\n",
    "\n",
    "llm = ChatOllama(model=\"llama3.2\").bind_tools([multiply])\n",
    "\n",
    "def node1(state: MessageState) -> MessageState:\n",
    "    return {\"messages\": [llm.invoke(state[\"messages\"])]}\n",
    "\n",
    "graph_builder = StateGraph(MessageState)\n",
    "graph_builder.add_node(\"node1\", node1)\n",
    "graph_builder.add_node(\"tools\", ToolNode(name=\"tool_node\", tools=[multiply]))\n",
    "\n",
    "graph_builder.add_edge(START, \"node1\")\n",
    "graph_builder.add_conditional_edges(\"node1\", tools_condition)\n",
    "graph_builder.add_edge(\"tools\", END)\n",
    "\n",
    "graph = graph_builder.compile()\n",
    "\n",
    "display(Image(graph.get_graph().draw_mermaid_png()))\n",
    "\n"
   ]
  },
  {
   "cell_type": "code",
   "execution_count": 26,
   "id": "842dfd09",
   "metadata": {},
   "outputs": [],
   "source": [
    "msgs = graph.invoke({\"messages\": [SystemMessage(content=\"You are a helpful assistant named Bobby. You have access to tools, but ONLY use them when explicitly needed to answer a question. For general conversation or greetings, respond directly without using tools\"),\n",
    "                                   HumanMessage(content=\"hi there, what's your name?\")]})"
   ]
  },
  {
   "cell_type": "code",
   "execution_count": 27,
   "id": "cad39063",
   "metadata": {},
   "outputs": [
    {
     "name": "stdout",
     "output_type": "stream",
     "text": [
      "================================\u001b[1m System Message \u001b[0m================================\n",
      "\n",
      "You are a helpful assistant named Bobby. You have access to tools, but ONLY use them when explicitly needed to answer a question. For general conversation or greetings, respond directly without using tools\n",
      "================================\u001b[1m Human Message \u001b[0m=================================\n",
      "\n",
      "hi there, what's your name?\n",
      "==================================\u001b[1m Ai Message \u001b[0m==================================\n",
      "Tool Calls:\n",
      "  I'm Bobby (47146a22-b95c-40db-bf40-439809d20209)\n",
      " Call ID: 47146a22-b95c-40db-bf40-439809d20209\n",
      "  Args:\n",
      "=================================\u001b[1m Tool Message \u001b[0m=================================\n",
      "Name: I'm Bobby\n",
      "\n",
      "Error: I'm Bobby is not a valid tool, try one of [multiply].\n"
     ]
    }
   ],
   "source": [
    "for msg in msgs[\"messages\"]:\n",
    "    msg.pretty_print()"
   ]
  },
  {
   "cell_type": "code",
   "execution_count": 28,
   "id": "14e69dfc",
   "metadata": {},
   "outputs": [
    {
     "data": {
      "text/plain": [
       "AIMessage(content=\"I'm not sure what you're referring to! Would you like to ask a question about something specific or would you like some general information?\", additional_kwargs={}, response_metadata={'model': 'llama3.2', 'created_at': '2025-03-22T16:52:36.02447Z', 'done': True, 'done_reason': 'stop', 'total_duration': 672274417, 'load_duration': 27489084, 'prompt_eval_count': 209, 'prompt_eval_duration': 315000000, 'eval_count': 29, 'eval_duration': 327000000, 'message': Message(role='assistant', content=\"I'm not sure what you're referring to! Would you like to ask a question about something specific or would you like some general information?\", images=None, tool_calls=None)}, id='run-86762bb6-73cb-4c3e-89b6-5ba5b1fd1deb-0', usage_metadata={'input_tokens': 209, 'output_tokens': 29, 'total_tokens': 238})"
      ]
     },
     "execution_count": 28,
     "metadata": {},
     "output_type": "execute_result"
    }
   ],
   "source": [
    "@tool\n",
    "def get_customer_support_database_name() -> str:\n",
    "    \"\"\"\n",
    "    This tool returns the name of the customer support database.\n",
    "    Returns:\n",
    "        The name of the customer support database.\n",
    "    \"\"\"\n",
    "    return \"CUSTOMER_V1_SCHEMA_10123\"\n",
    "\n",
    "llm2 = ChatOllama(model=\"llama3.2\")\n",
    "llm_with_tool = llm2.bind_tools([get_customer_support_database_name])\n",
    "custom_system_message = SystemMessage(content=\"\"\"You are a helpful assistant. You have access to tools, but ONLY use them when explicitly needed to answer a question. For general conversation or greetings, respond directly without using tools.\"\"\")\n",
    "\n",
    "llm_with_tool.invoke([custom_system_message,\n",
    "                      HumanMessage(content=\"hello world, what's the weather like today?\")])"
   ]
  },
  {
   "cell_type": "code",
   "execution_count": null,
   "id": "2c213f18",
   "metadata": {},
   "outputs": [],
   "source": []
  }
 ],
 "metadata": {
  "kernelspec": {
   "display_name": ".venv",
   "language": "python",
   "name": "python3"
  },
  "language_info": {
   "codemirror_mode": {
    "name": "ipython",
    "version": 3
   },
   "file_extension": ".py",
   "mimetype": "text/x-python",
   "name": "python",
   "nbconvert_exporter": "python",
   "pygments_lexer": "ipython3",
   "version": "3.13.2"
  }
 },
 "nbformat": 4,
 "nbformat_minor": 5
}
